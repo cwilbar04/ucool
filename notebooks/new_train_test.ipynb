{
 "cells": [
  {
   "cell_type": "code",
   "execution_count": 1,
   "metadata": {},
   "outputs": [],
   "source": [
    "import sys\n",
    "sys.path.insert(0, \"../src\")"
   ]
  },
  {
   "cell_type": "code",
   "execution_count": 2,
   "metadata": {},
   "outputs": [
    {
     "name": "stdout",
     "output_type": "stream",
     "text": [
      "['../src', '/workspaces/ucool/notebooks', '/opt/conda/envs/ucool/lib/python310.zip', '/opt/conda/envs/ucool/lib/python3.10', '/opt/conda/envs/ucool/lib/python3.10/lib-dynload', '', '/home/codespace/.local/lib/python3.10/site-packages', '/opt/conda/envs/ucool/lib/python3.10/site-packages']\n"
     ]
    }
   ],
   "source": [
    "print(sys.path)"
   ]
  },
  {
   "cell_type": "code",
   "execution_count": 3,
   "metadata": {},
   "outputs": [],
   "source": [
    "from data.preprocess import *\n",
    "import helpers"
   ]
  },
  {
   "cell_type": "code",
   "execution_count": 4,
   "metadata": {},
   "outputs": [
    {
     "data": {
      "text/plain": [
       "{'data_generator': {'rows': 10000,\n",
       "  'output_filepath': './data_generator/demo.csv'},\n",
       " 'data': {'coolness_factor': 50,\n",
       "  'test_size': 0.2,\n",
       "  'random_state': 42,\n",
       "  'output_path': './data'},\n",
       " 'model': {'features': ['Length of First Name', 'Distance'],\n",
       "  'target': 'is_Cool',\n",
       "  'train_data_path': './data/train_2023-05-14T16:08:37.csv',\n",
       "  'test_data_path': './data/test_2023-05-14T16:08:37.csv',\n",
       "  'max_depth': None,\n",
       "  'n_estimators': 100,\n",
       "  'avg_method': 'weighted',\n",
       "  'mlflow_config': {'artifacts_dir': 'artifacts',\n",
       "   'experiment_name': 'is_you_cool_classifier',\n",
       "   'run_name': 'random_forest',\n",
       "   'registered_model_name': 'is_you_cool_random_forest_model',\n",
       "   'remote_server_uri': 'http://localhost:1234'}}}"
      ]
     },
     "execution_count": 4,
     "metadata": {},
     "output_type": "execute_result"
    }
   ],
   "source": [
    "config = helpers.read_params(\"../params.yml\")\n",
    "config"
   ]
  },
  {
   "cell_type": "code",
   "execution_count": 5,
   "metadata": {},
   "outputs": [
    {
     "data": {
      "text/plain": [
       "{'data_generator': {'rows': 10000,\n",
       "  'output_filepath': '../data_generator/demo.csv'},\n",
       " 'data': {'coolness_factor': 50,\n",
       "  'test_size': 0.2,\n",
       "  'random_state': 42,\n",
       "  'output_path': '../data'},\n",
       " 'model': {'features': ['Length of First Name', 'Distance'],\n",
       "  'target': 'is_Cool',\n",
       "  'train_data_path': './data/train_2023-05-14T16:08:37.csv',\n",
       "  'test_data_path': './data/test_2023-05-14T16:08:37.csv',\n",
       "  'max_depth': None,\n",
       "  'n_estimators': 100,\n",
       "  'avg_method': 'weighted',\n",
       "  'mlflow_config': {'artifacts_dir': 'artifacts',\n",
       "   'experiment_name': 'is_you_cool_classifier',\n",
       "   'run_name': 'random_forest',\n",
       "   'registered_model_name': 'is_you_cool_random_forest_model',\n",
       "   'remote_server_uri': 'http://localhost:1234'}}}"
      ]
     },
     "execution_count": 5,
     "metadata": {},
     "output_type": "execute_result"
    }
   ],
   "source": [
    "#Update config filepaths to use different relative paths\n",
    "config['data_generator']['output_filepath'] = \".\" + config['data_generator']['output_filepath']\n",
    "config['data']['output_path'] = \".\" + config['data']['output_path']\n",
    "config\n"
   ]
  },
  {
   "cell_type": "code",
   "execution_count": 6,
   "metadata": {},
   "outputs": [
    {
     "data": {
      "text/html": [
       "<div>\n",
       "<style scoped>\n",
       "    .dataframe tbody tr th:only-of-type {\n",
       "        vertical-align: middle;\n",
       "    }\n",
       "\n",
       "    .dataframe tbody tr th {\n",
       "        vertical-align: top;\n",
       "    }\n",
       "\n",
       "    .dataframe thead th {\n",
       "        text-align: right;\n",
       "    }\n",
       "</style>\n",
       "<table border=\"1\" class=\"dataframe\">\n",
       "  <thead>\n",
       "    <tr style=\"text-align: right;\">\n",
       "      <th></th>\n",
       "      <th>First Name</th>\n",
       "      <th>Last Name Initial</th>\n",
       "      <th>Coolness</th>\n",
       "      <th>Length of First Name</th>\n",
       "      <th>Distance</th>\n",
       "      <th>is_Cool</th>\n",
       "    </tr>\n",
       "  </thead>\n",
       "  <tbody>\n",
       "    <tr>\n",
       "      <th>0</th>\n",
       "      <td>Robert</td>\n",
       "      <td>W</td>\n",
       "      <td>7</td>\n",
       "      <td>6</td>\n",
       "      <td>5</td>\n",
       "      <td>0</td>\n",
       "    </tr>\n",
       "    <tr>\n",
       "      <th>1</th>\n",
       "      <td>Dawn</td>\n",
       "      <td>N</td>\n",
       "      <td>33</td>\n",
       "      <td>4</td>\n",
       "      <td>10</td>\n",
       "      <td>0</td>\n",
       "    </tr>\n",
       "    <tr>\n",
       "      <th>2</th>\n",
       "      <td>Wayne</td>\n",
       "      <td>G</td>\n",
       "      <td>55</td>\n",
       "      <td>5</td>\n",
       "      <td>16</td>\n",
       "      <td>1</td>\n",
       "    </tr>\n",
       "    <tr>\n",
       "      <th>3</th>\n",
       "      <td>Mickey</td>\n",
       "      <td>J</td>\n",
       "      <td>25</td>\n",
       "      <td>6</td>\n",
       "      <td>3</td>\n",
       "      <td>0</td>\n",
       "    </tr>\n",
       "    <tr>\n",
       "      <th>4</th>\n",
       "      <td>Ruth</td>\n",
       "      <td>Q</td>\n",
       "      <td>84</td>\n",
       "      <td>4</td>\n",
       "      <td>1</td>\n",
       "      <td>1</td>\n",
       "    </tr>\n",
       "  </tbody>\n",
       "</table>\n",
       "</div>"
      ],
      "text/plain": [
       "  First Name Last Name Initial  Coolness  Length of First Name  Distance   \n",
       "0     Robert                 W         7                     6         5  \\\n",
       "1       Dawn                 N        33                     4        10   \n",
       "2      Wayne                 G        55                     5        16   \n",
       "3     Mickey                 J        25                     6         3   \n",
       "4       Ruth                 Q        84                     4         1   \n",
       "\n",
       "   is_Cool  \n",
       "0        0  \n",
       "1        0  \n",
       "2        1  \n",
       "3        0  \n",
       "4        1  "
      ]
     },
     "execution_count": 6,
     "metadata": {},
     "output_type": "execute_result"
    }
   ],
   "source": [
    "# Read dataframe in to memory from demo data\n",
    "data_source_filepath = config['data_generator']['output_filepath']\n",
    "coolness_factor = config['data']['coolness_factor']\n",
    "df = process_csv(data_source_filepath, coolness_factor)\n",
    "df.head()"
   ]
  },
  {
   "cell_type": "code",
   "execution_count": 7,
   "metadata": {},
   "outputs": [
    {
     "name": "stdout",
     "output_type": "stream",
     "text": [
      "Add the following to model section of params.yml to use these new datasets:\n",
      "      train_data_path: ./data/train_2023-05-14T16:53:45.csv\n",
      "      test_data_path: ./data/test_2023-05-14T16:53:45.csv\n",
      "      \n"
     ]
    }
   ],
   "source": [
    "# Split demo data in to new train/test split with save\n",
    "test_size = config['data']['test_size']\n",
    "random_state = config['data']['random_state']\n",
    "output_path = config['data']['output_path']\n",
    "train_data_path, test_data_path = save_train_test_split(df,test_size,random_state,output_path)\n",
    "print(f\"\"\"Add the following to model section of params.yml to use these new datasets:\n",
    "      train_data_path: {train_data_path[1:]}\n",
    "      test_data_path: {test_data_path[1:]}\n",
    "      \"\"\")"
   ]
  }
 ],
 "metadata": {
  "kernelspec": {
   "display_name": "ucool",
   "language": "python",
   "name": "python3"
  },
  "language_info": {
   "codemirror_mode": {
    "name": "ipython",
    "version": 3
   },
   "file_extension": ".py",
   "mimetype": "text/x-python",
   "name": "python",
   "nbconvert_exporter": "python",
   "pygments_lexer": "ipython3",
   "version": "3.10.11"
  },
  "orig_nbformat": 4
 },
 "nbformat": 4,
 "nbformat_minor": 2
}
