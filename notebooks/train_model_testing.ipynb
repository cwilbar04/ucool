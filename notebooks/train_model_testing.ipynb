{
 "cells": [
  {
   "cell_type": "code",
   "execution_count": 1,
   "metadata": {},
   "outputs": [],
   "source": [
    "import sys\n",
    "sys.path.insert(0, \"../src\")\n",
    "print(sys.path)"
   ]
  },
  {
   "cell_type": "code",
   "execution_count": 3,
   "metadata": {},
   "outputs": [],
   "source": [
    "from model import train_model\n",
    "import helpers"
   ]
  },
  {
   "cell_type": "code",
   "execution_count": 4,
   "metadata": {},
   "outputs": [
    {
     "data": {
      "text/plain": [
       "{'data_generator': {'rows': 10000,\n",
       "  'output_filepath': './data_generator/demo.csv'},\n",
       " 'data': {'coolness_factor': 50,\n",
       "  'test_size': 0.2,\n",
       "  'random_state': 42,\n",
       "  'output_path': './data'},\n",
       " 'model': {'features': ['Length of First Name', 'Distance'],\n",
       "  'target': 'is_Cool',\n",
       "  'train_data_path': './data/train_2023-05-14T16:08:37.csv',\n",
       "  'test_data_path': './data/test_2023-05-14T16:08:37.csv',\n",
       "  'max_depth': None,\n",
       "  'n_estimators': 100,\n",
       "  'avg_method': 'weighted',\n",
       "  'mlflow_config': {'artifacts_dir': 'artifacts',\n",
       "   'experiment_name': 'is_you_cool_classifier',\n",
       "   'run_name': 'random_forest',\n",
       "   'registered_model_name': 'is_you_cool_random_forest_model',\n",
       "   'remote_server_uri': 'http://localhost:1234'}}}"
      ]
     },
     "execution_count": 4,
     "metadata": {},
     "output_type": "execute_result"
    }
   ],
   "source": [
    "config = helpers.read_params(\"../params.yml\")\n",
    "config"
   ]
  },
  {
   "cell_type": "code",
   "execution_count": 5,
   "metadata": {},
   "outputs": [
    {
     "data": {
      "text/plain": [
       "{'data_generator': {'rows': 10000,\n",
       "  'output_filepath': './data_generator/demo.csv'},\n",
       " 'data': {'coolness_factor': 50,\n",
       "  'test_size': 0.2,\n",
       "  'random_state': 42,\n",
       "  'output_path': './data'},\n",
       " 'model': {'features': ['Length of First Name', 'Distance'],\n",
       "  'target': 'is_Cool',\n",
       "  'train_data_path': '../data/train_2023-05-14T16:08:37.csv',\n",
       "  'test_data_path': '../data/test_2023-05-14T16:08:37.csv',\n",
       "  'max_depth': None,\n",
       "  'n_estimators': 100,\n",
       "  'avg_method': 'weighted',\n",
       "  'mlflow_config': {'artifacts_dir': 'artifacts',\n",
       "   'experiment_name': 'is_you_cool_classifier',\n",
       "   'run_name': 'random_forest',\n",
       "   'registered_model_name': 'is_you_cool_random_forest_model',\n",
       "   'remote_server_uri': 'http://localhost:1234'}}}"
      ]
     },
     "execution_count": 5,
     "metadata": {},
     "output_type": "execute_result"
    }
   ],
   "source": [
    "config['model']['train_data_path'] = \".\" + config['model']['train_data_path']\n",
    "config['model']['test_data_path'] = \".\" + config['model']['test_data_path']\n",
    "config"
   ]
  },
  {
   "cell_type": "code",
   "execution_count": 7,
   "metadata": {},
   "outputs": [
    {
     "name": "stdout",
     "output_type": "stream",
     "text": [
      "Classification report\n",
      "--------------------- \n",
      "\n",
      "              precision    recall  f1-score   support\n",
      "\n",
      "    not cool       0.50      0.56      0.53      1019\n",
      "        cool       0.47      0.41      0.44       981\n",
      "\n",
      "    accuracy                           0.49      2000\n",
      "   macro avg       0.49      0.49      0.48      2000\n",
      "weighted avg       0.49      0.49      0.48      2000\n",
      " \n",
      "\n",
      "Confusion Matrix\n",
      "--------------------- \n",
      "\n",
      "[[568 451]\n",
      " [574 407]] \n",
      "\n",
      "Accuracy Measures\n",
      "--------------------- \n",
      "\n",
      "Accuracy:  0.4875\n",
      "Precision:  0.48608463559207865\n",
      "Recall:  0.4875\n",
      "F1 Score:  0.4849461913062121\n"
     ]
    }
   ],
   "source": [
    "train_x,train_y,test_x,test_y, model = train_model.main(config)"
   ]
  }
 ],
 "metadata": {
  "kernelspec": {
   "display_name": "ucool",
   "language": "python",
   "name": "python3"
  },
  "language_info": {
   "codemirror_mode": {
    "name": "ipython",
    "version": 3
   },
   "file_extension": ".py",
   "mimetype": "text/x-python",
   "name": "python",
   "nbconvert_exporter": "python",
   "pygments_lexer": "ipython3",
   "version": "3.10.11"
  },
  "orig_nbformat": 4
 },
 "nbformat": 4,
 "nbformat_minor": 2
}
