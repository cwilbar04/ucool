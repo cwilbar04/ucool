{
 "cells": [
  {
   "cell_type": "code",
   "execution_count": 1,
   "metadata": {},
   "outputs": [
    {
     "name": "stdout",
     "output_type": "stream",
     "text": [
      "['../src', '/workspaces/ucool/notebooks', '/opt/conda/envs/ucool/lib/python310.zip', '/opt/conda/envs/ucool/lib/python3.10', '/opt/conda/envs/ucool/lib/python3.10/lib-dynload', '', '/home/codespace/.local/lib/python3.10/site-packages', '/opt/conda/envs/ucool/lib/python3.10/site-packages']\n"
     ]
    }
   ],
   "source": [
    "import sys\n",
    "sys.path.insert(0, \"../src\")\n",
    "print(sys.path)"
   ]
  },
  {
   "cell_type": "code",
   "execution_count": 2,
   "metadata": {},
   "outputs": [],
   "source": [
    "from model import train_model\n",
    "import helpers"
   ]
  },
  {
   "cell_type": "code",
   "execution_count": 3,
   "metadata": {},
   "outputs": [
    {
     "data": {
      "text/plain": [
       "{'data_generator': {'rows': 10000,\n",
       "  'output_filepath': './data_generator/demo.csv'},\n",
       " 'data': {'coolness_factor': 50,\n",
       "  'test_size': 0.2,\n",
       "  'random_state': 42,\n",
       "  'output_path': './data'},\n",
       " 'model': {'features': ['Length of First Name', 'Distance'],\n",
       "  'target': 'is_Cool',\n",
       "  'train_data_path': './data/train_2023-05-14T16:53:45.csv',\n",
       "  'test_data_path': './data/test_2023-05-14T16:53:45.csv',\n",
       "  'max_depth': None,\n",
       "  'n_estimators': 100,\n",
       "  'avg_method': 'weighted',\n",
       "  'mlflow_config': {'artifacts_dir': 'artifacts',\n",
       "   'experiment_name': 'is_you_cool_classifier',\n",
       "   'remote_server_uri': 'http://localhost:1234'},\n",
       "  'production_config': None}}"
      ]
     },
     "execution_count": 3,
     "metadata": {},
     "output_type": "execute_result"
    }
   ],
   "source": [
    "config = helpers.read_params(\"../params.yml\")\n",
    "config"
   ]
  },
  {
   "cell_type": "code",
   "execution_count": 4,
   "metadata": {},
   "outputs": [
    {
     "data": {
      "text/plain": [
       "{'data_generator': {'rows': 10000,\n",
       "  'output_filepath': './data_generator/demo.csv'},\n",
       " 'data': {'coolness_factor': 50,\n",
       "  'test_size': 0.2,\n",
       "  'random_state': 42,\n",
       "  'output_path': './data'},\n",
       " 'model': {'features': ['Length of First Name', 'Distance'],\n",
       "  'target': 'is_Cool',\n",
       "  'train_data_path': '../data/train_2023-05-14T16:53:45.csv',\n",
       "  'test_data_path': '../data/test_2023-05-14T16:53:45.csv',\n",
       "  'max_depth': None,\n",
       "  'n_estimators': 100,\n",
       "  'avg_method': 'weighted',\n",
       "  'mlflow_config': {'artifacts_dir': 'artifacts',\n",
       "   'experiment_name': 'is_you_cool_classifier',\n",
       "   'remote_server_uri': 'http://localhost:1234'},\n",
       "  'production_config': None}}"
      ]
     },
     "execution_count": 4,
     "metadata": {},
     "output_type": "execute_result"
    }
   ],
   "source": [
    "config['model']['train_data_path'] = \".\" + config['model']['train_data_path']\n",
    "config['model']['test_data_path'] = \".\" + config['model']['test_data_path']\n",
    "config"
   ]
  },
  {
   "cell_type": "code",
   "execution_count": 5,
   "metadata": {},
   "outputs": [
    {
     "name": "stdout",
     "output_type": "stream",
     "text": [
      "Classification report\n",
      "--------------------- \n",
      "\n",
      "              precision    recall  f1-score   support\n",
      "\n",
      "    not cool       0.49      0.56      0.52      1019\n",
      "        cool       0.47      0.40      0.43       981\n",
      "\n",
      "    accuracy                           0.48      2000\n",
      "   macro avg       0.48      0.48      0.48      2000\n",
      "weighted avg       0.48      0.48      0.48      2000\n",
      " \n",
      "\n",
      "Confusion Matrix\n",
      "--------------------- \n",
      "\n",
      "[[570 449]\n",
      " [586 395]] \n",
      "\n",
      "Accuracy Measures\n",
      "--------------------- \n",
      "\n",
      "Accuracy:  0.4825\n",
      "Precision:  0.4807826977320061\n",
      "Recall:  0.4825\n",
      "F1 Score:  0.4793743032593292\n"
     ]
    },
    {
     "name": "stderr",
     "output_type": "stream",
     "text": [
      "/opt/conda/envs/ucool/lib/python3.10/site-packages/mlflow/models/signature.py:137: UserWarning: Hint: Inferred schema contains integer column(s). Integer columns in Python cannot represent missing values. If your input data contains missing values at inference time, it will be encoded as floats and will cause a schema enforcement error. The best way to avoid this problem is to infer the model schema based on a realistic data sample (training dataset) that includes missing values. Alternatively, you can declare integer columns as doubles (float64) whenever these columns may have missing values. See `Handling Integers With Missing Values <https://www.mlflow.org/docs/latest/models.html#handling-integers-with-missing-values>`_ for more details.\n",
      "  inputs = _infer_schema(model_input)\n",
      "/home/codespace/.local/lib/python3.10/site-packages/_distutils_hack/__init__.py:33: UserWarning: Setuptools is replacing distutils.\n",
      "  warnings.warn(\"Setuptools is replacing distutils.\")\n"
     ]
    }
   ],
   "source": [
    "train_x,train_y,test_x,test_y, model = train_model.main(config)"
   ]
  },
  {
   "cell_type": "code",
   "execution_count": 6,
   "metadata": {},
   "outputs": [
    {
     "data": {
      "text/plain": [
       "array([1, 0, 0, ..., 0, 1, 0])"
      ]
     },
     "execution_count": 6,
     "metadata": {},
     "output_type": "execute_result"
    }
   ],
   "source": [
    "model.predict(test_x)"
   ]
  }
 ],
 "metadata": {
  "kernelspec": {
   "display_name": "ucool",
   "language": "python",
   "name": "python3"
  },
  "language_info": {
   "codemirror_mode": {
    "name": "ipython",
    "version": 3
   },
   "file_extension": ".py",
   "mimetype": "text/x-python",
   "name": "python",
   "nbconvert_exporter": "python",
   "pygments_lexer": "ipython3",
   "version": "3.10.11"
  },
  "orig_nbformat": 4
 },
 "nbformat": 4,
 "nbformat_minor": 2
}
