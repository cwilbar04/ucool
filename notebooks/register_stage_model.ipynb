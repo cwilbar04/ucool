{
 "cells": [
  {
   "cell_type": "code",
   "execution_count": 1,
   "metadata": {},
   "outputs": [
    {
     "name": "stdout",
     "output_type": "stream",
     "text": [
      "['../src', '/workspaces/ucool/notebooks', '/opt/conda/envs/ucool/lib/python310.zip', '/opt/conda/envs/ucool/lib/python3.10', '/opt/conda/envs/ucool/lib/python3.10/lib-dynload', '', '/home/codespace/.local/lib/python3.10/site-packages', '/opt/conda/envs/ucool/lib/python3.10/site-packages']\n"
     ]
    }
   ],
   "source": [
    "import sys\n",
    "sys.path.insert(0, \"../src\")\n",
    "print(sys.path)"
   ]
  },
  {
   "cell_type": "code",
   "execution_count": 2,
   "metadata": {},
   "outputs": [],
   "source": [
    "import mlflow\n",
    "from mlflow import MlflowClient\n",
    "import helpers"
   ]
  },
  {
   "cell_type": "code",
   "execution_count": 3,
   "metadata": {},
   "outputs": [
    {
     "data": {
      "text/plain": [
       "{'data_generator': {'rows': 10000,\n",
       "  'output_filepath': './data_generator/demo.csv'},\n",
       " 'data': {'coolness_factor': 50,\n",
       "  'test_size': 0.2,\n",
       "  'random_state': 42,\n",
       "  'output_path': './data'},\n",
       " 'model': {'features': ['Length of First Name', 'Distance'],\n",
       "  'target': 'is_Cool',\n",
       "  'train_data_path': './data/train_2023-05-14T16:53:45.csv',\n",
       "  'test_data_path': './data/test_2023-05-14T16:53:45.csv',\n",
       "  'max_depth': None,\n",
       "  'n_estimators': 100,\n",
       "  'avg_method': 'weighted',\n",
       "  'mlflow_config': {'artifacts_dir': 'artifacts',\n",
       "   'experiment_name': 'is_you_cool_classifier',\n",
       "   'remote_server_uri': 'http://localhost:1234',\n",
       "   'production_config': {'register_model_name': 'is_you_cool_classifier'}}}}"
      ]
     },
     "execution_count": 3,
     "metadata": {},
     "output_type": "execute_result"
    }
   ],
   "source": [
    "config = helpers.read_params(\"../params.yml\")\n",
    "config"
   ]
  },
  {
   "cell_type": "code",
   "execution_count": 4,
   "metadata": {},
   "outputs": [],
   "source": [
    "mlflow_config = config['model']['mlflow_config']\n",
    "mlflow.set_tracking_uri(mlflow_config['remote_server_uri'])"
   ]
  },
  {
   "cell_type": "code",
   "execution_count": 14,
   "metadata": {},
   "outputs": [
    {
     "name": "stderr",
     "output_type": "stream",
     "text": [
      "Successfully registered model 'is_you_cool_classifier'.\n",
      "2023/05/14 17:32:12 INFO mlflow.tracking._model_registry.client: Waiting up to 300 seconds for model version to finish creation. Model name: is_you_cool_classifier, version 1\n"
     ]
    },
    {
     "name": "stdout",
     "output_type": "stream",
     "text": [
      "Name: is_you_cool_classifier\n",
      "Version: 1\n"
     ]
    },
    {
     "name": "stderr",
     "output_type": "stream",
     "text": [
      "Created version '1' of model 'is_you_cool_classifier'.\n"
     ]
    }
   ],
   "source": [
    "mv = mlflow.register_model(\n",
    "    \"runs:/f76b80ac7a8e4675a29618f7dd1bd04d/artifacts\", mlflow_config['production_config']['register_model_name']\n",
    ")\n",
    "print(\"Name: {}\".format(mv.name))\n",
    "print(\"Version: {}\".format(mv.version))"
   ]
  },
  {
   "cell_type": "code",
   "execution_count": 9,
   "metadata": {},
   "outputs": [
    {
     "data": {
      "text/plain": [
       "<ModelVersion: aliases=[], creation_timestamp=1684085532618, current_stage='Staging', description='', last_updated_timestamp=1684091590485, name='is_you_cool_classifier', run_id='f76b80ac7a8e4675a29618f7dd1bd04d', run_link='', source='/workspaces/ucool/artifacts/2/f76b80ac7a8e4675a29618f7dd1bd04d/artifacts/artifacts', status='READY', status_message='', tags={}, user_id='', version='1'>"
      ]
     },
     "execution_count": 9,
     "metadata": {},
     "output_type": "execute_result"
    }
   ],
   "source": [
    "# Move immediately into Staging\n",
    "client = MlflowClient()\n",
    "client.transition_model_version_stage(\n",
    "    name=mv.name, version=mv.version, stage=\"Staging\"\n",
    ")"
   ]
  }
 ],
 "metadata": {
  "kernelspec": {
   "display_name": "ucool",
   "language": "python",
   "name": "python3"
  },
  "language_info": {
   "codemirror_mode": {
    "name": "ipython",
    "version": 3
   },
   "file_extension": ".py",
   "mimetype": "text/x-python",
   "name": "python",
   "nbconvert_exporter": "python",
   "pygments_lexer": "ipython3",
   "version": "3.10.11"
  },
  "orig_nbformat": 4
 },
 "nbformat": 4,
 "nbformat_minor": 2
}
